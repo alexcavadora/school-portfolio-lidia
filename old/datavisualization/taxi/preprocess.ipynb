{
 "cells": [
  {
   "cell_type": "code",
   "execution_count": 1,
   "metadata": {},
   "outputs": [],
   "source": [
    "import os\n",
    "import numpy as np\n",
    "import pandas as pd\n",
    "import matplotlib.pyplot as plt\n",
    "from datetime import datetime\n",
    "from math import radians, cos, sin, asin, sqrt\n",
    "import glob\n",
    "from tqdm import tqdm\n",
    "from matplotlib.colors import LogNorm\n",
    "import matplotlib.ticker as ticker\n"
   ]
  },
  {
   "cell_type": "code",
   "execution_count": 2,
   "metadata": {},
   "outputs": [],
   "source": [
    "def haversine(lon1, lat1, lon2, lat2):\n",
    "    \"\"\"\n",
    "    Calculate the great circle distance between two points \n",
    "    on the earth (specified in decimal degrees)\n",
    "    \"\"\"\n",
    "    # Convert decimal degrees to radians\n",
    "    lon1, lat1, lon2, lat2 = map(radians, [lon1, lat1, lon2, lat2])\n",
    "    \n",
    "    # Haversine formula\n",
    "    dlon = lon2 - lon1\n",
    "    dlat = lat2 - lat1\n",
    "    a = sin(dlat/2)**2 + cos(lat1) * cos(lat2) * sin(dlon/2)**2\n",
    "    c = 2 * asin(sqrt(a))\n",
    "    r = 6371000  # Radius of earth in meters\n",
    "    return c * r\n",
    "\n",
    "def process_taxi_file(filepath):\n",
    "    \"\"\"Process a single taxi file and return data for analysis.\"\"\"\n",
    "    time_intervals = []\n",
    "    distance_intervals = []\n",
    "    points = []\n",
    "    \n",
    "    try:\n",
    "        # Read the file with proper column names\n",
    "        df = pd.read_csv(filepath, header=None, \n",
    "                        names=['taxi_id', 'datetime', 'longitude', 'latitude'])\n",
    "        \n",
    "        # Convert datetime string to datetime object\n",
    "        df['datetime'] = pd.to_datetime(df['datetime'])\n",
    "        \n",
    "        # Sort by datetime to ensure correct order\n",
    "        df = df.sort_values('datetime').reset_index(drop=True)\n",
    "        \n",
    "        # Extract all GPS points\n",
    "        for _, row in df.iterrows():\n",
    "            points.append((row['longitude'], row['latitude'], row['datetime']))\n",
    "        \n",
    "        # Calculate intervals between consecutive points\n",
    "        for i in range(1, len(df)):\n",
    "            # Time interval in minutes\n",
    "            time_diff = (df.iloc[i]['datetime'] - df.iloc[i-1]['datetime']).total_seconds() / 60\n",
    "            \n",
    "            # Distance in meters\n",
    "            dist = haversine(\n",
    "                df.iloc[i-1]['longitude'], df.iloc[i-1]['latitude'],\n",
    "                df.iloc[i]['longitude'], df.iloc[i]['latitude']\n",
    "            )\n",
    "            \n",
    "            # Only add reasonable values (filter outliers)\n",
    "            if 0 < time_diff < 60 and 0 < dist < 10000:  # Max 60 min and 10km\n",
    "                time_intervals.append(time_diff)\n",
    "                distance_intervals.append(dist)\n",
    "    \n",
    "    except Exception as e:\n",
    "        print(f\"Error processing {filepath}: {e}\")\n",
    "    \n",
    "    return time_intervals, distance_intervals, points\n"
   ]
  },
  {
   "cell_type": "code",
   "execution_count": 3,
   "metadata": {},
   "outputs": [],
   "source": [
    "data_dir = 'data'\n",
    "\n",
    "# Check if data directory exists\n",
    "if not os.path.exists(data_dir):\n",
    "    print(f\"Data directory {data_dir} not found.\")"
   ]
  },
  {
   "cell_type": "code",
   "execution_count": 4,
   "metadata": {},
   "outputs": [
    {
     "name": "stdout",
     "output_type": "stream",
     "text": [
      "Found 10357 taxi data files.\n"
     ]
    }
   ],
   "source": [
    "\n",
    "# Get all taxi files\n",
    "taxi_files = glob.glob(os.path.join(data_dir, '*.txt'))\n",
    "\n",
    "if not taxi_files:\n",
    "    print(f\"No taxi data files found in {data_dir}.\")\n",
    "\n",
    "print(f\"Found {len(taxi_files)} taxi data files.\")"
   ]
  },
  {
   "cell_type": "code",
   "execution_count": 5,
   "metadata": {},
   "outputs": [
    {
     "name": "stdout",
     "output_type": "stream",
     "text": [
      "Processing 10357 taxi files...\n"
     ]
    },
    {
     "name": "stderr",
     "output_type": "stream",
     "text": [
      "  4%|▍         | 446/10357 [01:37<28:25,  5.81it/s]  /var/folders/b1/jmw1t8k560b3ljdj7pzwl_kh0000gn/T/ipykernel_23924/354684734.py:29: UserWarning: Could not infer format, so each element will be parsed individually, falling back to `dateutil`. To ensure parsing is consistent and as-expected, please specify a format.\n",
      "  df['datetime'] = pd.to_datetime(df['datetime'])\n",
      "100%|██████████| 10357/10357 [3:44:08<00:00,  1.30s/it]    "
     ]
    },
    {
     "name": "stdout",
     "output_type": "stream",
     "text": [
      "Processed 13552798 interval data points.\n",
      "Collected 17662984 GPS points.\n"
     ]
    },
    {
     "name": "stderr",
     "output_type": "stream",
     "text": [
      "\n"
     ]
    }
   ],
   "source": [
    "\n",
    "# Process data\n",
    "all_time_intervals = []\n",
    "all_distance_intervals = []\n",
    "all_points = []\n",
    "\n",
    "# Process each taxi file\n",
    "# Adjust the number of files to process based on your computational resources\n",
    "#num_files_to_process = min(1000, len(taxi_files))  # Process up to 1000 files\n",
    "num_files_to_process = len(taxi_files)\n",
    " \n",
    "print(f\"Processing {num_files_to_process} taxi files...\")\n",
    "for file in tqdm(taxi_files[:num_files_to_process]):\n",
    "    time_intervals, distance_intervals, points = process_taxi_file(file)\n",
    "    all_time_intervals.extend(time_intervals)\n",
    "    all_distance_intervals.extend(distance_intervals)\n",
    "    all_points.extend(points)\n",
    "\n",
    "print(f\"Processed {len(all_time_intervals)} interval data points.\")\n",
    "print(f\"Collected {len(all_points)} GPS points.\")\n"
   ]
  },
  {
   "cell_type": "code",
   "execution_count": 6,
   "metadata": {},
   "outputs": [
    {
     "name": "stdout",
     "output_type": "stream",
     "text": [
      "Processed data saved to processed_taxi_data.pkl.\n"
     ]
    }
   ],
   "source": [
    "import pickle\n",
    "\n",
    "# Save processed data to a file\n",
    "processed_data_file = 'processed_taxi_data.pkl'\n",
    "\n",
    "with open(processed_data_file, 'wb') as f:\n",
    "    pickle.dump({\n",
    "        'all_time_intervals': all_time_intervals,\n",
    "        'all_distance_intervals': all_distance_intervals,\n",
    "        'all_points': all_points\n",
    "    }, f)\n",
    "\n",
    "print(f\"Processed data saved to {processed_data_file}.\")"
   ]
  },
  {
   "cell_type": "code",
   "execution_count": 7,
   "metadata": {},
   "outputs": [
    {
     "name": "stdout",
     "output_type": "stream",
     "text": [
      "Pickled data loaded successfully.\n"
     ]
    }
   ],
   "source": [
    "with open(processed_data_file, 'rb') as f:\n",
    "    loaded_data = pickle.load(f)\n",
    "\n",
    "# Extract data from the loaded dictionary\n",
    "loaded_time_intervals = loaded_data['all_time_intervals']\n",
    "loaded_distance_intervals = loaded_data['all_distance_intervals']\n",
    "loaded_points = loaded_data['all_points']\n",
    "\n",
    "print(\"Pickled data loaded successfully.\")"
   ]
  },
  {
   "cell_type": "code",
   "execution_count": 8,
   "metadata": {},
   "outputs": [],
   "source": [
    "\n",
    "def create_interval_histograms(time_intervals, distance_intervals):\n",
    "    \"\"\"Create histograms for time and distance intervals.\"\"\"\n",
    "    plt.figure(figsize=(12, 5))\n",
    "    \n",
    "    # Time interval histogram (minutes)\n",
    "    plt.subplot(1, 2, 1)\n",
    "    counts, bins, _ = plt.hist(time_intervals, bins=30, range=(0, 12), \n",
    "                              density=True, alpha=0.7, color='blue')\n",
    "    plt.xlabel('minutes')\n",
    "    plt.ylabel('proportion')\n",
    "    plt.title('(a) time interval')\n",
    "    plt.grid(True, alpha=0.3)\n",
    "    \n",
    "    # Distance interval histogram (meters)\n",
    "    plt.subplot(1, 2, 2)\n",
    "    counts, bins, _ = plt.hist(distance_intervals, bins=30, range=(0, 8000), \n",
    "                              density=True, alpha=0.7, color='green')\n",
    "    plt.xlabel('meters')\n",
    "    plt.ylabel('proportion')\n",
    "    plt.title('(b) distance interval')\n",
    "    plt.grid(True, alpha=0.3)\n",
    "    \n",
    "    plt.tight_layout()\n",
    "    plt.savefig('tdrive_intervals_histogram.png', dpi=300)\n",
    "    plt.close()\n"
   ]
  },
  {
   "cell_type": "code",
   "execution_count": 9,
   "metadata": {},
   "outputs": [],
   "source": [
    "\n",
    "def create_density_plot(all_points):\n",
    "    \"\"\"Create density plot of GPS points.\"\"\"\n",
    "    # Extract longitudes and latitudes\n",
    "    longitudes = [p[0] for p in all_points]\n",
    "    latitudes = [p[1] for p in all_points]\n",
    "    \n",
    "    # Create full Beijing overview plot\n",
    "    plt.figure(figsize=(10, 8))\n",
    "    \n",
    "    # Use hexbin for density visualization with logarithmic color scale\n",
    "    hb = plt.hexbin(longitudes, latitudes, \n",
    "                   gridsize=200, \n",
    "                   cmap='viridis', \n",
    "                   bins='log',\n",
    "                   extent=[116.1, 116.8, 39.6, 40.2])\n",
    "    \n",
    "    # Add colorbar\n",
    "    cb = plt.colorbar(hb, label='Number of GPS points')\n",
    "    \n",
    "    # Set labels and title\n",
    "    plt.xlabel('Longitude')\n",
    "    plt.ylabel('Latitude')\n",
    "    plt.title('(a) Data overview in Beijing')\n",
    "    \n",
    "    # Set axis limits to match the document\n",
    "    plt.xlim(116.1, 116.8)\n",
    "    plt.ylim(39.6, 40.2)\n",
    "    \n",
    "    # Add grid\n",
    "    plt.grid(True, alpha=0.3)\n",
    "    \n",
    "    plt.tight_layout()\n",
    "    plt.savefig('tdrive_density_overview.png', dpi=300)\n",
    "    plt.close()\n",
    "    \n",
    "    # Create inner city plot (within 5th Ring Road)\n",
    "    plt.figure(figsize=(10, 8))\n",
    "    \n",
    "    # Use hexbin for density visualization with logarithmic color scale\n",
    "    hb = plt.hexbin(longitudes, latitudes, \n",
    "                   gridsize=200, \n",
    "                   cmap='viridis', \n",
    "                   bins='log',\n",
    "                   extent=[116.2, 116.55, 39.8, 40.05])\n",
    "    \n",
    "    # Add colorbar\n",
    "    cb = plt.colorbar(hb, label='Number of GPS points')\n",
    "    \n",
    "    # Set labels and title\n",
    "    plt.xlabel('Longitude')\n",
    "    plt.ylabel('Latitude')\n",
    "    plt.title('(b) Within the 5th Ring Road of Beijing')\n",
    "    \n",
    "    # Set axis limits to match the document\n",
    "    plt.xlim(116.2, 116.55)\n",
    "    plt.ylim(39.8, 40.05)\n",
    "    \n",
    "    # Add grid\n",
    "    plt.grid(True, alpha=0.3)\n",
    "    \n",
    "    plt.tight_layout()\n",
    "    plt.savefig('tdrive_density_inner_city.png', dpi=300)\n",
    "    plt.close()"
   ]
  },
  {
   "cell_type": "code",
   "execution_count": 10,
   "metadata": {},
   "outputs": [],
   "source": [
    "def process_taxi_file(filepath):\n",
    "    # ... existing code ...\n",
    "    for _, row in df.iterrows():\n",
    "        points.append((row['longitude'], row['latitude'], row['datetime']))\n",
    "    # ... rest of the code ..."
   ]
  },
  {
   "cell_type": "code",
   "execution_count": 11,
   "metadata": {},
   "outputs": [
    {
     "name": "stdout",
     "output_type": "stream",
     "text": [
      "Creating interval histograms...\n",
      "Creating density plots...\n",
      "\n",
      "Time Interval Statistics (minutes):\n",
      "Count: 13552798\n",
      "Min: 0.02\n",
      "Max: 59.98\n",
      "Mean: 3.63\n",
      "Median: 3.92\n",
      "\n",
      "Distance Interval Statistics (meters):\n",
      "Count: 13552798\n",
      "Min: 0.78\n",
      "Max: 9999.97\n",
      "Mean: 749.50\n",
      "Median: 142.33\n",
      "\n",
      "Analysis complete! Output images:\n",
      "1. tdrive_intervals_histogram.png\n",
      "2. tdrive_density_overview.png\n",
      "3. tdrive_density_inner_city.png\n"
     ]
    }
   ],
   "source": [
    "\n",
    "# Convert to numpy arrays for processing\n",
    "time_intervals_array = np.array(all_time_intervals)\n",
    "distance_intervals_array = np.array(all_distance_intervals)\n",
    "\n",
    "# Create interval histograms\n",
    "print(\"Creating interval histograms...\")\n",
    "create_interval_histograms(time_intervals_array, distance_intervals_array)\n",
    "\n",
    "# Create density plot\n",
    "print(\"Creating density plots...\")\n",
    "create_density_plot(all_points)\n",
    "\n",
    "# Print statistics\n",
    "print(\"\\nTime Interval Statistics (minutes):\")\n",
    "print(f\"Count: {len(all_time_intervals)}\")\n",
    "print(f\"Min: {np.min(time_intervals_array):.2f}\")\n",
    "print(f\"Max: {np.max(time_intervals_array):.2f}\")\n",
    "print(f\"Mean: {np.mean(time_intervals_array):.2f}\")\n",
    "print(f\"Median: {np.median(time_intervals_array):.2f}\")\n",
    "\n",
    "print(\"\\nDistance Interval Statistics (meters):\")\n",
    "print(f\"Count: {len(all_distance_intervals)}\")\n",
    "print(f\"Min: {np.min(distance_intervals_array):.2f}\")\n",
    "print(f\"Max: {np.max(distance_intervals_array):.2f}\")\n",
    "print(f\"Mean: {np.mean(distance_intervals_array):.2f}\")\n",
    "print(f\"Median: {np.median(distance_intervals_array):.2f}\")\n",
    "\n",
    "print(\"\\nAnalysis complete! Output images:\")\n",
    "print(\"1. tdrive_intervals_histogram.png\")\n",
    "print(\"2. tdrive_density_overview.png\")\n",
    "print(\"3. tdrive_density_inner_city.png\")"
   ]
  }
 ],
 "metadata": {
  "kernelspec": {
   "display_name": "tf",
   "language": "python",
   "name": "python3"
  },
  "language_info": {
   "codemirror_mode": {
    "name": "ipython",
    "version": 3
   },
   "file_extension": ".py",
   "mimetype": "text/x-python",
   "name": "python",
   "nbconvert_exporter": "python",
   "pygments_lexer": "ipython3",
   "version": "3.10.15"
  }
 },
 "nbformat": 4,
 "nbformat_minor": 2
}
