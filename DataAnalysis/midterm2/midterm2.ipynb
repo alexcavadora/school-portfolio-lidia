{
 "cells": [
  {
   "cell_type": "markdown",
   "metadata": {},
   "source": [
    "# 1. PREPARANDO NUESTRA BASE DE DATOS."
   ]
  },
  {
   "cell_type": "code",
   "execution_count": null,
   "metadata": {},
   "outputs": [
    {
     "name": "stdout",
     "output_type": "stream",
     "text": [
      "<class 'pandas.core.frame.DataFrame'>\n",
      "RangeIndex: 4802 entries, 0 to 4801\n",
      "Data columns (total 10 columns):\n",
      " #   Column            Non-Null Count  Dtype  \n",
      "---  ------            --------------  -----  \n",
      " 0   track_id          4802 non-null   int64  \n",
      " 1   acousticness      4802 non-null   float64\n",
      " 2   danceability      4802 non-null   float64\n",
      " 3   energy            4802 non-null   float64\n",
      " 4   instrumentalness  4802 non-null   float64\n",
      " 5   liveness          4802 non-null   float64\n",
      " 6   speechiness       4802 non-null   float64\n",
      " 7   tempo             4802 non-null   float64\n",
      " 8   valence           4802 non-null   float64\n",
      " 9   genre_top         4802 non-null   object \n",
      "dtypes: float64(8), int64(1), object(1)\n",
      "memory usage: 375.3+ KB\n"
     ]
    }
   ],
   "source": [
    "import pandas as pd\n",
    "tracks = pd.read_csv('fma-rock-vs-hiphop.csv')\n",
    "echonest_metrics = pd.read_json('echonest-metrics.json', precise_float=True)\n",
    "echo_tracks = pd.merge(\n",
    "    echonest_metrics[['track_id', 'acousticness', 'danceability', 'energy', 'instrumentalness', 'liveness', 'speechiness', 'tempo', 'valence']],\n",
    "    tracks[['track_id', 'genre_top']],\n",
    "    on='track_id', \n",
    "    how='inner')\n",
    "echo_tracks.info()\n"
   ]
  },
  {
   "cell_type": "markdown",
   "metadata": {},
   "source": [
    "# 2. RELACIONES POR PARES ENTRE VARIABLES CONTINUAS."
   ]
  },
  {
   "cell_type": "code",
   "execution_count": null,
   "metadata": {},
   "outputs": [
    {
     "data": {
      "text/html": [
       "<style type=\"text/css\">\n",
       "#T_df6db_row0_col0, #T_df6db_row1_col1, #T_df6db_row2_col2, #T_df6db_row3_col3, #T_df6db_row4_col4, #T_df6db_row5_col5, #T_df6db_row6_col6, #T_df6db_row7_col7, #T_df6db_row8_col8 {\n",
       "  background-color: #023858;\n",
       "  color: #f1f1f1;\n",
       "}\n",
       "#T_df6db_row0_col1, #T_df6db_row1_col0, #T_df6db_row1_col3, #T_df6db_row2_col5, #T_df6db_row2_col7, #T_df6db_row4_col2, #T_df6db_row4_col6, #T_df6db_row4_col8, #T_df6db_row6_col4 {\n",
       "  background-color: #fff7fb;\n",
       "  color: #000000;\n",
       "}\n",
       "#T_df6db_row0_col2 {\n",
       "  background-color: #d2d2e7;\n",
       "  color: #000000;\n",
       "}\n",
       "#T_df6db_row0_col3 {\n",
       "  background-color: #b5c4df;\n",
       "  color: #000000;\n",
       "}\n",
       "#T_df6db_row0_col4 {\n",
       "  background-color: #f5eef6;\n",
       "  color: #000000;\n",
       "}\n",
       "#T_df6db_row0_col5 {\n",
       "  background-color: #e9e5f1;\n",
       "  color: #000000;\n",
       "}\n",
       "#T_df6db_row0_col6, #T_df6db_row8_col3 {\n",
       "  background-color: #d1d2e6;\n",
       "  color: #000000;\n",
       "}\n",
       "#T_df6db_row0_col7, #T_df6db_row1_col7 {\n",
       "  background-color: #e1dfed;\n",
       "  color: #000000;\n",
       "}\n",
       "#T_df6db_row0_col8, #T_df6db_row3_col6 {\n",
       "  background-color: #dedcec;\n",
       "  color: #000000;\n",
       "}\n",
       "#T_df6db_row1_col2 {\n",
       "  background-color: #e0dded;\n",
       "  color: #000000;\n",
       "}\n",
       "#T_df6db_row1_col4, #T_df6db_row4_col1 {\n",
       "  background-color: #97b7d7;\n",
       "  color: #000000;\n",
       "}\n",
       "#T_df6db_row1_col5, #T_df6db_row2_col4 {\n",
       "  background-color: #f3edf5;\n",
       "  color: #000000;\n",
       "}\n",
       "#T_df6db_row1_col6, #T_df6db_row6_col1 {\n",
       "  background-color: #b8c6e0;\n",
       "  color: #000000;\n",
       "}\n",
       "#T_df6db_row1_col8 {\n",
       "  background-color: #e2dfee;\n",
       "  color: #000000;\n",
       "}\n",
       "#T_df6db_row2_col0, #T_df6db_row5_col0, #T_df6db_row5_col3 {\n",
       "  background-color: #bdc8e1;\n",
       "  color: #000000;\n",
       "}\n",
       "#T_df6db_row2_col1, #T_df6db_row6_col0, #T_df6db_row7_col0, #T_df6db_row7_col1 {\n",
       "  background-color: #d0d1e6;\n",
       "  color: #000000;\n",
       "}\n",
       "#T_df6db_row2_col3 {\n",
       "  background-color: #fbf3f9;\n",
       "  color: #000000;\n",
       "}\n",
       "#T_df6db_row2_col6 {\n",
       "  background-color: #80aed2;\n",
       "  color: #f1f1f1;\n",
       "}\n",
       "#T_df6db_row2_col8 {\n",
       "  background-color: #529bc7;\n",
       "  color: #f1f1f1;\n",
       "}\n",
       "#T_df6db_row3_col0, #T_df6db_row7_col3 {\n",
       "  background-color: #a7bddb;\n",
       "  color: #000000;\n",
       "}\n",
       "#T_df6db_row3_col1 {\n",
       "  background-color: #f5eff6;\n",
       "  color: #000000;\n",
       "}\n",
       "#T_df6db_row3_col2, #T_df6db_row7_col2 {\n",
       "  background-color: #fef6fa;\n",
       "  color: #000000;\n",
       "}\n",
       "#T_df6db_row3_col4 {\n",
       "  background-color: #c4cbe3;\n",
       "  color: #000000;\n",
       "}\n",
       "#T_df6db_row3_col5, #T_df6db_row5_col7 {\n",
       "  background-color: #dcdaeb;\n",
       "  color: #000000;\n",
       "}\n",
       "#T_df6db_row3_col7 {\n",
       "  background-color: #adc1dd;\n",
       "  color: #000000;\n",
       "}\n",
       "#T_df6db_row3_col8, #T_df6db_row4_col7 {\n",
       "  background-color: #d9d8ea;\n",
       "  color: #000000;\n",
       "}\n",
       "#T_df6db_row4_col0 {\n",
       "  background-color: #f4eef6;\n",
       "  color: #000000;\n",
       "}\n",
       "#T_df6db_row4_col3 {\n",
       "  background-color: #d2d3e7;\n",
       "  color: #000000;\n",
       "}\n",
       "#T_df6db_row4_col5 {\n",
       "  background-color: #fdf5fa;\n",
       "  color: #000000;\n",
       "}\n",
       "#T_df6db_row5_col1 {\n",
       "  background-color: #ced0e6;\n",
       "  color: #000000;\n",
       "}\n",
       "#T_df6db_row5_col2 {\n",
       "  background-color: #ede8f3;\n",
       "  color: #000000;\n",
       "}\n",
       "#T_df6db_row5_col4, #T_df6db_row6_col7 {\n",
       "  background-color: #dbdaeb;\n",
       "  color: #000000;\n",
       "}\n",
       "#T_df6db_row5_col6 {\n",
       "  background-color: #c0c9e2;\n",
       "  color: #000000;\n",
       "}\n",
       "#T_df6db_row5_col8 {\n",
       "  background-color: #e8e4f0;\n",
       "  color: #000000;\n",
       "}\n",
       "#T_df6db_row6_col2 {\n",
       "  background-color: #93b5d6;\n",
       "  color: #000000;\n",
       "}\n",
       "#T_df6db_row6_col3, #T_df6db_row6_col5 {\n",
       "  background-color: #eae6f1;\n",
       "  color: #000000;\n",
       "}\n",
       "#T_df6db_row6_col8 {\n",
       "  background-color: #bfc9e1;\n",
       "  color: #000000;\n",
       "}\n",
       "#T_df6db_row7_col4 {\n",
       "  background-color: #c5cce3;\n",
       "  color: #000000;\n",
       "}\n",
       "#T_df6db_row7_col5 {\n",
       "  background-color: #f0eaf4;\n",
       "  color: #000000;\n",
       "}\n",
       "#T_df6db_row7_col6 {\n",
       "  background-color: #c8cde4;\n",
       "  color: #000000;\n",
       "}\n",
       "#T_df6db_row7_col8 {\n",
       "  background-color: #d6d6e9;\n",
       "  color: #000000;\n",
       "}\n",
       "#T_df6db_row8_col0 {\n",
       "  background-color: #c6cce3;\n",
       "  color: #000000;\n",
       "}\n",
       "#T_df6db_row8_col1 {\n",
       "  background-color: #cdd0e5;\n",
       "  color: #000000;\n",
       "}\n",
       "#T_df6db_row8_col2 {\n",
       "  background-color: #4c99c5;\n",
       "  color: #f1f1f1;\n",
       "}\n",
       "#T_df6db_row8_col4 {\n",
       "  background-color: #efe9f3;\n",
       "  color: #000000;\n",
       "}\n",
       "#T_df6db_row8_col5 {\n",
       "  background-color: #f7f0f7;\n",
       "  color: #000000;\n",
       "}\n",
       "#T_df6db_row8_col6 {\n",
       "  background-color: #a5bddb;\n",
       "  color: #000000;\n",
       "}\n",
       "#T_df6db_row8_col7 {\n",
       "  background-color: #d3d4e7;\n",
       "  color: #000000;\n",
       "}\n",
       "</style>\n",
       "<table id=\"T_df6db\">\n",
       "  <thead>\n",
       "    <tr>\n",
       "      <th class=\"blank level0\" >&nbsp;</th>\n",
       "      <th id=\"T_df6db_level0_col0\" class=\"col_heading level0 col0\" >track_id</th>\n",
       "      <th id=\"T_df6db_level0_col1\" class=\"col_heading level0 col1\" >acousticness</th>\n",
       "      <th id=\"T_df6db_level0_col2\" class=\"col_heading level0 col2\" >danceability</th>\n",
       "      <th id=\"T_df6db_level0_col3\" class=\"col_heading level0 col3\" >energy</th>\n",
       "      <th id=\"T_df6db_level0_col4\" class=\"col_heading level0 col4\" >instrumentalness</th>\n",
       "      <th id=\"T_df6db_level0_col5\" class=\"col_heading level0 col5\" >liveness</th>\n",
       "      <th id=\"T_df6db_level0_col6\" class=\"col_heading level0 col6\" >speechiness</th>\n",
       "      <th id=\"T_df6db_level0_col7\" class=\"col_heading level0 col7\" >tempo</th>\n",
       "      <th id=\"T_df6db_level0_col8\" class=\"col_heading level0 col8\" >valence</th>\n",
       "    </tr>\n",
       "  </thead>\n",
       "  <tbody>\n",
       "    <tr>\n",
       "      <th id=\"T_df6db_level0_row0\" class=\"row_heading level0 row0\" >track_id</th>\n",
       "      <td id=\"T_df6db_row0_col0\" class=\"data row0 col0\" >1.000000</td>\n",
       "      <td id=\"T_df6db_row0_col1\" class=\"data row0 col1\" >-0.372282</td>\n",
       "      <td id=\"T_df6db_row0_col2\" class=\"data row0 col2\" >0.049454</td>\n",
       "      <td id=\"T_df6db_row0_col3\" class=\"data row0 col3\" >0.140703</td>\n",
       "      <td id=\"T_df6db_row0_col4\" class=\"data row0 col4\" >-0.275623</td>\n",
       "      <td id=\"T_df6db_row0_col5\" class=\"data row0 col5\" >0.048231</td>\n",
       "      <td id=\"T_df6db_row0_col6\" class=\"data row0 col6\" >-0.026995</td>\n",
       "      <td id=\"T_df6db_row0_col7\" class=\"data row0 col7\" >-0.025392</td>\n",
       "      <td id=\"T_df6db_row0_col8\" class=\"data row0 col8\" >0.010070</td>\n",
       "    </tr>\n",
       "    <tr>\n",
       "      <th id=\"T_df6db_level0_row1\" class=\"row_heading level0 row1\" >acousticness</th>\n",
       "      <td id=\"T_df6db_row1_col0\" class=\"data row1 col0\" >-0.372282</td>\n",
       "      <td id=\"T_df6db_row1_col1\" class=\"data row1 col1\" >1.000000</td>\n",
       "      <td id=\"T_df6db_row1_col2\" class=\"data row1 col2\" >-0.028954</td>\n",
       "      <td id=\"T_df6db_row1_col3\" class=\"data row1 col3\" >-0.281619</td>\n",
       "      <td id=\"T_df6db_row1_col4\" class=\"data row1 col4\" >0.194780</td>\n",
       "      <td id=\"T_df6db_row1_col5\" class=\"data row1 col5\" >-0.019991</td>\n",
       "      <td id=\"T_df6db_row1_col6\" class=\"data row1 col6\" >0.072204</td>\n",
       "      <td id=\"T_df6db_row1_col7\" class=\"data row1 col7\" >-0.026310</td>\n",
       "      <td id=\"T_df6db_row1_col8\" class=\"data row1 col8\" >-0.013841</td>\n",
       "    </tr>\n",
       "    <tr>\n",
       "      <th id=\"T_df6db_level0_row2\" class=\"row_heading level0 row2\" >danceability</th>\n",
       "      <td id=\"T_df6db_row2_col0\" class=\"data row2 col0\" >0.049454</td>\n",
       "      <td id=\"T_df6db_row2_col1\" class=\"data row2 col1\" >-0.028954</td>\n",
       "      <td id=\"T_df6db_row2_col2\" class=\"data row2 col2\" >1.000000</td>\n",
       "      <td id=\"T_df6db_row2_col3\" class=\"data row2 col3\" >-0.242032</td>\n",
       "      <td id=\"T_df6db_row2_col4\" class=\"data row2 col4\" >-0.255217</td>\n",
       "      <td id=\"T_df6db_row2_col5\" class=\"data row2 col5\" >-0.106584</td>\n",
       "      <td id=\"T_df6db_row2_col6\" class=\"data row2 col6\" >0.276206</td>\n",
       "      <td id=\"T_df6db_row2_col7\" class=\"data row2 col7\" >-0.242089</td>\n",
       "      <td id=\"T_df6db_row2_col8\" class=\"data row2 col8\" >0.473165</td>\n",
       "    </tr>\n",
       "    <tr>\n",
       "      <th id=\"T_df6db_level0_row3\" class=\"row_heading level0 row3\" >energy</th>\n",
       "      <td id=\"T_df6db_row3_col0\" class=\"data row3 col0\" >0.140703</td>\n",
       "      <td id=\"T_df6db_row3_col1\" class=\"data row3 col1\" >-0.281619</td>\n",
       "      <td id=\"T_df6db_row3_col2\" class=\"data row3 col2\" >-0.242032</td>\n",
       "      <td id=\"T_df6db_row3_col3\" class=\"data row3 col3\" >1.000000</td>\n",
       "      <td id=\"T_df6db_row3_col4\" class=\"data row3 col4\" >0.028238</td>\n",
       "      <td id=\"T_df6db_row3_col5\" class=\"data row3 col5\" >0.113331</td>\n",
       "      <td id=\"T_df6db_row3_col6\" class=\"data row3 col6\" >-0.109983</td>\n",
       "      <td id=\"T_df6db_row3_col7\" class=\"data row3 col7\" >0.195227</td>\n",
       "      <td id=\"T_df6db_row3_col8\" class=\"data row3 col8\" >0.038603</td>\n",
       "    </tr>\n",
       "    <tr>\n",
       "      <th id=\"T_df6db_level0_row4\" class=\"row_heading level0 row4\" >instrumentalness</th>\n",
       "      <td id=\"T_df6db_row4_col0\" class=\"data row4 col0\" >-0.275623</td>\n",
       "      <td id=\"T_df6db_row4_col1\" class=\"data row4 col1\" >0.194780</td>\n",
       "      <td id=\"T_df6db_row4_col2\" class=\"data row4 col2\" >-0.255217</td>\n",
       "      <td id=\"T_df6db_row4_col3\" class=\"data row4 col3\" >0.028238</td>\n",
       "      <td id=\"T_df6db_row4_col4\" class=\"data row4 col4\" >1.000000</td>\n",
       "      <td id=\"T_df6db_row4_col5\" class=\"data row4 col5\" >-0.091022</td>\n",
       "      <td id=\"T_df6db_row4_col6\" class=\"data row4 col6\" >-0.366762</td>\n",
       "      <td id=\"T_df6db_row4_col7\" class=\"data row4 col7\" >0.022215</td>\n",
       "      <td id=\"T_df6db_row4_col8\" class=\"data row4 col8\" >-0.219967</td>\n",
       "    </tr>\n",
       "    <tr>\n",
       "      <th id=\"T_df6db_level0_row5\" class=\"row_heading level0 row5\" >liveness</th>\n",
       "      <td id=\"T_df6db_row5_col0\" class=\"data row5 col0\" >0.048231</td>\n",
       "      <td id=\"T_df6db_row5_col1\" class=\"data row5 col1\" >-0.019991</td>\n",
       "      <td id=\"T_df6db_row5_col2\" class=\"data row5 col2\" >-0.106584</td>\n",
       "      <td id=\"T_df6db_row5_col3\" class=\"data row5 col3\" >0.113331</td>\n",
       "      <td id=\"T_df6db_row5_col4\" class=\"data row5 col4\" >-0.091022</td>\n",
       "      <td id=\"T_df6db_row5_col5\" class=\"data row5 col5\" >1.000000</td>\n",
       "      <td id=\"T_df6db_row5_col6\" class=\"data row5 col6\" >0.041173</td>\n",
       "      <td id=\"T_df6db_row5_col7\" class=\"data row5 col7\" >0.002732</td>\n",
       "      <td id=\"T_df6db_row5_col8\" class=\"data row5 col8\" >-0.045093</td>\n",
       "    </tr>\n",
       "    <tr>\n",
       "      <th id=\"T_df6db_level0_row6\" class=\"row_heading level0 row6\" >speechiness</th>\n",
       "      <td id=\"T_df6db_row6_col0\" class=\"data row6 col0\" >-0.026995</td>\n",
       "      <td id=\"T_df6db_row6_col1\" class=\"data row6 col1\" >0.072204</td>\n",
       "      <td id=\"T_df6db_row6_col2\" class=\"data row6 col2\" >0.276206</td>\n",
       "      <td id=\"T_df6db_row6_col3\" class=\"data row6 col3\" >-0.109983</td>\n",
       "      <td id=\"T_df6db_row6_col4\" class=\"data row6 col4\" >-0.366762</td>\n",
       "      <td id=\"T_df6db_row6_col5\" class=\"data row6 col5\" >0.041173</td>\n",
       "      <td id=\"T_df6db_row6_col6\" class=\"data row6 col6\" >1.000000</td>\n",
       "      <td id=\"T_df6db_row6_col7\" class=\"data row6 col7\" >0.008241</td>\n",
       "      <td id=\"T_df6db_row6_col8\" class=\"data row6 col8\" >0.149894</td>\n",
       "    </tr>\n",
       "    <tr>\n",
       "      <th id=\"T_df6db_level0_row7\" class=\"row_heading level0 row7\" >tempo</th>\n",
       "      <td id=\"T_df6db_row7_col0\" class=\"data row7 col0\" >-0.025392</td>\n",
       "      <td id=\"T_df6db_row7_col1\" class=\"data row7 col1\" >-0.026310</td>\n",
       "      <td id=\"T_df6db_row7_col2\" class=\"data row7 col2\" >-0.242089</td>\n",
       "      <td id=\"T_df6db_row7_col3\" class=\"data row7 col3\" >0.195227</td>\n",
       "      <td id=\"T_df6db_row7_col4\" class=\"data row7 col4\" >0.022215</td>\n",
       "      <td id=\"T_df6db_row7_col5\" class=\"data row7 col5\" >0.002732</td>\n",
       "      <td id=\"T_df6db_row7_col6\" class=\"data row7 col6\" >0.008241</td>\n",
       "      <td id=\"T_df6db_row7_col7\" class=\"data row7 col7\" >1.000000</td>\n",
       "      <td id=\"T_df6db_row7_col8\" class=\"data row7 col8\" >0.052221</td>\n",
       "    </tr>\n",
       "    <tr>\n",
       "      <th id=\"T_df6db_level0_row8\" class=\"row_heading level0 row8\" >valence</th>\n",
       "      <td id=\"T_df6db_row8_col0\" class=\"data row8 col0\" >0.010070</td>\n",
       "      <td id=\"T_df6db_row8_col1\" class=\"data row8 col1\" >-0.013841</td>\n",
       "      <td id=\"T_df6db_row8_col2\" class=\"data row8 col2\" >0.473165</td>\n",
       "      <td id=\"T_df6db_row8_col3\" class=\"data row8 col3\" >0.038603</td>\n",
       "      <td id=\"T_df6db_row8_col4\" class=\"data row8 col4\" >-0.219967</td>\n",
       "      <td id=\"T_df6db_row8_col5\" class=\"data row8 col5\" >-0.045093</td>\n",
       "      <td id=\"T_df6db_row8_col6\" class=\"data row8 col6\" >0.149894</td>\n",
       "      <td id=\"T_df6db_row8_col7\" class=\"data row8 col7\" >0.052221</td>\n",
       "      <td id=\"T_df6db_row8_col8\" class=\"data row8 col8\" >1.000000</td>\n",
       "    </tr>\n",
       "  </tbody>\n",
       "</table>\n"
      ],
      "text/plain": [
       "<pandas.io.formats.style.Styler at 0x7fc80477b5c0>"
      ]
     },
     "execution_count": 11,
     "metadata": {},
     "output_type": "execute_result"
    }
   ],
   "source": [
    "corr_metrics = echo_tracks.corr(numeric_only=True)\n",
    "\n",
    "corr_metrics.style.background_gradient()\n"
   ]
  },
  {
   "cell_type": "markdown",
   "metadata": {},
   "source": [
    "# 3. DIVIDIENDO NUESTROS DATOS."
   ]
  },
  {
   "cell_type": "code",
   "execution_count": null,
   "metadata": {},
   "outputs": [
    {
     "name": "stdout",
     "output_type": "stream",
     "text": [
      "(3601, 8) (1201, 8) (3601,) (1201,)\n"
     ]
    }
   ],
   "source": [
    "from sklearn.model_selection import train_test_split\n",
    "\n",
    "features = echo_tracks.drop(columns=['track_id', 'genre_top'])\n",
    "labels = echo_tracks['genre_top']\n",
    "\n",
    "train_features, test_features, train_labels, test_labels = train_test_split(features, labels, random_state=10)\n",
    "\n",
    "print(train_features.shape, test_features.shape, train_labels.shape, test_labels.shape)\n"
   ]
  },
  {
   "cell_type": "markdown",
   "metadata": {},
   "source": [
    "# 4. NORMALIZACION DE LOS DATOS DE CARACTERISTICAS"
   ]
  },
  {
   "cell_type": "code",
   "execution_count": 13,
   "metadata": {},
   "outputs": [
    {
     "name": "stdout",
     "output_type": "stream",
     "text": [
      "(3601, 8) (1201, 8)\n"
     ]
    }
   ],
   "source": [
    "from sklearn.preprocessing import StandardScaler\n",
    "\n",
    "scaler = StandardScaler()\n",
    "scaled_train_features = scaler.fit_transform(train_features)\n",
    "scaled_test_features = scaler.transform(test_features)\n",
    "\n",
    "print(scaled_train_features.shape, scaled_test_features.shape)\n"
   ]
  },
  {
   "cell_type": "markdown",
   "metadata": {},
   "source": [
    "# 5. ANALISIS DE COMPONENTES PRINCIPALES DE LOS DATOS ESCALADOS."
   ]
  },
  {
   "cell_type": "code",
   "execution_count": 16,
   "metadata": {},
   "outputs": [
    {
     "data": {
      "image/png": "[encoded data removed]",
      "text/plain": [
       "<Figure size 640x480 with 1 Axes>"
      ]
     },
     "metadata": {},
     "output_type": "display_data"
    }
   ],
   "source": [
    "import matplotlib.pyplot as plt\n",
    "from sklearn.decomposition import PCA\n",
    "import numpy as np\n",
    "\n",
    "pca = PCA()\n",
    "pca.fit(scaled_train_features)\n",
    "\n",
    "exp_variance = pca.explained_variance_ratio_\n",
    "\n",
    "plt.bar(range(len(exp_variance)), exp_variance)\n",
    "plt.xlabel('Componentes principales')\n",
    "plt.ylabel('Varianza explicada')\n",
    "plt.show()\n"
   ]
  },
  {
   "cell_type": "markdown",
   "metadata": {},
   "source": [
    "\n",
    "# 6. Visualización adicional de PCA."
   ]
  },
  {
   "cell_type": "code",
   "execution_count": 17,
   "metadata": {},
   "outputs": [
    {
     "data": {
      "image/png": "[encoded data removed]",
      "text/plain": [
       "<Figure size 640x480 with 1 Axes>"
      ]
     },
     "metadata": {},
     "output_type": "display_data"
    }
   ],
   "source": [
    "cum_exp_variance = np.cumsum(exp_variance)\n",
    "\n",
    "plt.plot(cum_exp_variance)\n",
    "plt.axhline(y=0.85, color='r', linestyle='--')\n",
    "plt.xlabel('Número de componentes')\n",
    "plt.ylabel('Varianza acumulada')\n",
    "plt.show()\n"
   ]
  },
  {
   "cell_type": "markdown",
   "metadata": {},
   "source": [
    "# 7 PROYECTANDO SOBRE NUESTRAS CARACTERISTICAS"
   ]
  },
  {
   "cell_type": "code",
   "execution_count": 18,
   "metadata": {},
   "outputs": [
    {
     "name": "stdout",
     "output_type": "stream",
     "text": [
      "(3601, 6) (1201, 6)\n"
     ]
    }
   ],
   "source": [
    "pca = PCA(n_components=6, random_state=10)\n",
    "train_pca = pca.fit_transform(scaled_train_features)\n",
    "test_pca = pca.transform(scaled_test_features)\n",
    "\n",
    "print(train_pca.shape, test_pca.shape)\n"
   ]
  },
  {
   "cell_type": "markdown",
   "metadata": {},
   "source": [
    "# 8. ENTRENANDO UN ÁRBOL DE DECISIÓN PARA CLASIFICAR EL GÉNERO."
   ]
  },
  {
   "cell_type": "code",
   "execution_count": 19,
   "metadata": {},
   "outputs": [
    {
     "name": "stdout",
     "output_type": "stream",
     "text": [
      "(1201,)\n"
     ]
    }
   ],
   "source": [
    "from sklearn.tree import DecisionTreeClassifier\n",
    "\n",
    "tree = DecisionTreeClassifier(random_state=10)\n",
    "tree.fit(train_pca, train_labels)\n",
    "\n",
    "pred_labels_tree = tree.predict(test_pca)\n",
    "\n",
    "print(pred_labels_tree.shape)\n"
   ]
  },
  {
   "cell_type": "markdown",
   "metadata": {},
   "source": [
    "# 9. COMPARAR NUESTRO ÁRBOL DE DECISIONES CON UNA REGRESIÓN LOGÍSTICA"
   ]
  },
  {
   "cell_type": "code",
   "execution_count": null,
   "metadata": {},
   "outputs": [
    {
     "name": "stdout",
     "output_type": "stream",
     "text": [
      "Decision Tree: \n",
      "               precision    recall  f1-score   support\n",
      "\n",
      "     Hip-Hop       0.62      0.60      0.61       235\n",
      "        Rock       0.90      0.91      0.91       966\n",
      "\n",
      "    accuracy                           0.85      1201\n",
      "   macro avg       0.76      0.76      0.76      1201\n",
      "weighted avg       0.85      0.85      0.85      1201\n",
      "\n",
      "Logistic Regression: \n",
      "               precision    recall  f1-score   support\n",
      "\n",
      "     Hip-Hop       0.77      0.54      0.64       235\n",
      "        Rock       0.90      0.96      0.93       966\n",
      "\n",
      "    accuracy                           0.88      1201\n",
      "   macro avg       0.83      0.75      0.78      1201\n",
      "weighted avg       0.87      0.88      0.87      1201\n",
      "\n"
     ]
    }
   ],
   "source": [
    "\n",
    "from sklearn.linear_model import LogisticRegression\n",
    "from sklearn.metrics import classification_report\n",
    "\n",
    "logreg = LogisticRegression(random_state=10, max_iter=1000) \n",
    "logreg.fit(train_pca, train_labels)\n",
    "\n",
    "pred_labels_logit = logreg.predict(test_pca)\n",
    "\n",
    "class_rep_tree = classification_report(test_labels, pred_labels_tree)\n",
    "\n",
    "class_rep_log = classification_report(test_labels, pred_labels_logit)\n",
    "\n",
    "\n",
    "print(\"Decision Tree: \\n\", class_rep_tree)\n",
    "print(\"Logistic Regression: \\n\", class_rep_log)\n",
    "\n"
   ]
  },
  {
   "cell_type": "markdown",
   "metadata": {},
   "source": [
    "# 10. EQUILIBRAR NUESTROS DATOS PARA UN MAYOR RENDIMIENTO"
   ]
  },
  {
   "cell_type": "code",
   "execution_count": 29,
   "metadata": {},
   "outputs": [
    {
     "name": "stdout",
     "output_type": "stream",
     "text": [
      "Dimensiones de los datos de entrenamiento (PCA): (1365, 6)\n",
      "Dimensiones de los datos de prueba (PCA): (455, 6)\n"
     ]
    }
   ],
   "source": [
    "hop_only = echo_tracks.loc[echo_tracks['genre_top'] == 'Hip-Hop']\n",
    "rock_only = echo_tracks.loc[echo_tracks['genre_top'] == 'Rock']\n",
    "rock_only = rock_only.sample(n=len(hop_only), random_state=10)\n",
    "\n",
    "rock_hop_bal = pd.concat([rock_only, hop_only], ignore_index=True)\n",
    "\n",
    "features_bal = rock_hop_bal.drop('genre_top', axis=1)\n",
    "labels_bal = rock_hop_bal['genre_top']\n",
    "\n",
    "X_train_bal, X_test_bal, y_train_bal, y_test_bal = train_test_split(features_bal, labels_bal, test_size=0.25, random_state=10)\n",
    "\n",
    "scaled_train_features_bal = scaler.fit_transform(X_train_bal)\n",
    "scaled_test_features_bal = scaler.transform(X_test_bal)\n",
    "\n",
    "train_pca_bal = pca.fit_transform(scaled_train_features_bal)\n",
    "test_pca_bal = pca.transform(scaled_test_features_bal)\n",
    "\n",
    "# Visualizar la dimensión de los datos transformados\n",
    "print(\"Dimensiones de los datos de entrenamiento (PCA):\", train_pca_bal.shape)\n",
    "print(\"Dimensiones de los datos de prueba (PCA):\", test_pca_bal.shape)\n"
   ]
  },
  {
   "cell_type": "markdown",
   "metadata": {},
   "source": [
    "# 11. ¿EQUILIBRANDO NUESTRO CONJUNTO DE DATOS MEJORA EL SESGO DEL MODELO?"
   ]
  },
  {
   "cell_type": "code",
   "execution_count": 31,
   "metadata": {},
   "outputs": [
    {
     "name": "stdout",
     "output_type": "stream",
     "text": [
      "Decision Tree (Balanced): \n",
      "               precision    recall  f1-score   support\n",
      "\n",
      "     Hip-Hop       0.78      0.78      0.78       230\n",
      "        Rock       0.77      0.77      0.77       225\n",
      "\n",
      "    accuracy                           0.78       455\n",
      "   macro avg       0.78      0.78      0.78       455\n",
      "weighted avg       0.78      0.78      0.78       455\n",
      "\n",
      "Logistic Regression (Balanced): \n",
      "               precision    recall  f1-score   support\n",
      "\n",
      "     Hip-Hop       0.82      0.80      0.81       230\n",
      "        Rock       0.80      0.82      0.81       225\n",
      "\n",
      "    accuracy                           0.81       455\n",
      "   macro avg       0.81      0.81      0.81       455\n",
      "weighted avg       0.81      0.81      0.81       455\n",
      "\n"
     ]
    }
   ],
   "source": [
    "from sklearn.tree import DecisionTreeClassifier\n",
    "from sklearn.linear_model import LogisticRegression\n",
    "from sklearn.metrics import classification_report\n",
    "\n",
    "tree = DecisionTreeClassifier(random_state=10)\n",
    "tree.fit(train_pca_bal, y_train_bal) \n",
    "\n",
    "pred_labels_tree_bal = tree.predict(test_pca_bal) \n",
    "\n",
    "logreg = LogisticRegression(random_state=10, max_iter=1000) \n",
    "logreg.fit(train_pca_bal, y_train_bal)\n",
    "\n",
    "pred_labels_logit_bal = logreg.predict(test_pca_bal)\n",
    "\n",
    "class_rep_tree_bal = classification_report(y_test_bal, pred_labels_tree_bal)\n",
    "class_rep_log_bal = classification_report(y_test_bal, pred_labels_logit_bal)\n",
    "\n",
    "print(\"Decision Tree (Balanced): \\n\", class_rep_tree_bal)\n",
    "print(\"Logistic Regression (Balanced): \\n\", class_rep_log_bal)\n"
   ]
  }
 ],
 "metadata": {
  "kernelspec": {
   "display_name": "base",
   "language": "python",
   "name": "python3"
  },
  "language_info": {
   "codemirror_mode": {
    "name": "ipython",
    "version": 3
   },
   "file_extension": ".py",
   "mimetype": "text/x-python",
   "name": "python",
   "nbconvert_exporter": "python",
   "pygments_lexer": "ipython3",
   "version": "3.12.9"
  }
 },
 "nbformat": 4,
 "nbformat_minor": 2
}
