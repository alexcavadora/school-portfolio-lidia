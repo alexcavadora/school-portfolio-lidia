{
 "cells": [
  {
   "cell_type": "code",
   "execution_count": 3,
   "metadata": {},
   "outputs": [],
   "source": [
    "import os\n",
    "import torch\n",
    "import numpy as np\n",
    "from torchvision import datasets, transforms\n",
    "from torch.utils.data import DataLoader, random_split\n",
    "from collections import Counter\n",
    "import matplotlib.pyplot as plt\n"
   ]
  },
  {
   "cell_type": "code",
   "execution_count": 4,
   "metadata": {},
   "outputs": [
    {
     "name": "stdout",
     "output_type": "stream",
     "text": [
      "mps :)\n"
     ]
    }
   ],
   "source": [
    "path_db = 'data'\n",
    "device = torch.device('cpu')\n",
    "if torch.cuda.is_available():\n",
    "    device = torch.device('cuda')\n",
    "    print(\"cuda :0\")\n",
    "elif torch.backends.mps.is_available():\n",
    "    device = torch.device('mps')\n",
    "    print(\"mps :)\")\n",
    "else:\n",
    "    print(\"cpu :(\")"
   ]
  },
  {
   "cell_type": "code",
   "execution_count": 6,
   "metadata": {},
   "outputs": [
    {
     "ename": "NameError",
     "evalue": "name 'path_bd' is not defined",
     "output_type": "error",
     "traceback": [
      "\u001b[0;31m---------------------------------------------------------------------------\u001b[0m",
      "\u001b[0;31mNameError\u001b[0m                                 Traceback (most recent call last)",
      "Cell \u001b[0;32mIn[6], line 3\u001b[0m\n\u001b[1;32m      1\u001b[0m transformations \u001b[38;5;241m=\u001b[39m transforms\u001b[38;5;241m.\u001b[39mToTensor()\n\u001b[0;32m----> 3\u001b[0m db \u001b[38;5;241m=\u001b[39m datasets\u001b[38;5;241m.\u001b[39mImageFolder(\u001b[43mpath_bd\u001b[49m, transform\u001b[38;5;241m=\u001b[39mtransformations)\n\u001b[1;32m      5\u001b[0m db_size \u001b[38;5;241m=\u001b[39m \u001b[38;5;28mlen\u001b[39m(db)\n",
      "\u001b[0;31mNameError\u001b[0m: name 'path_bd' is not defined"
     ]
    }
   ],
   "source": [
    "transformations = transforms.ToTensor()\n",
    "\n",
    "db = datasets.ImageFolder(path_bd, transform=transformations)\n",
    "\n",
    "db_size = len(db)"
   ]
  },
  {
   "cell_type": "code",
   "execution_count": 15,
   "metadata": {},
   "outputs": [],
   "source": [
    "def mean_std(db_path, batch_size=128, workers=4):\n",
    "    transformations = transforms.ToTensor()\n",
    "    DB = datasets.ImageFolder(path_db, transform=transformations)\n",
    "\n",
    "    DB_loader = DataLoader(DB, batch_size=batch_size, shuffle=False, num_workers=workers)\n",
    "    mean = 0.0\n",
    "    std = 0.0\n",
    "    n_img = 0\n",
    "\n",
    "    for image, _ in DB_loader:\n",
    "        batch_samples = image.size(0)\n",
    "        image = image.view(batch_samples, image.size(1),-1)\n",
    "        mean += image.mean(2).sum(0)\n",
    "        std += image.std(2).sum(0)\n",
    "        n_img += batch_samples\n",
    "\n",
    "    mean /= n_img\n",
    "    std /= n_img\n",
    "\n",
    "    return mean,std"
   ]
  },
  {
   "cell_type": "code",
   "execution_count": null,
   "metadata": {},
   "outputs": [],
   "source": [
    "batch_size = 64\n",
    "epochs = 50\n",
    "lr = 0.001\n",
    "train_split = 0.7\n",
    "val_split = 0.2\n",
    "test_split = 0.1\n",
    "\n",
    "transformaciones = transforms.Compose([transforms.ToTensor(), transforms.Normalize(mean=[0.3506, 0.1952,0.39],std)])\n",
    "\n",
    "DB = datasets.ImageFolder(path_bd, transform=transformaciones)\n",
    "labels = [label for _, label in DB]\n",
    "class_counts = Counter(labels)"
   ]
  },
  {
   "cell_type": "code",
   "execution_count": null,
   "metadata": {},
   "outputs": [],
   "source": []
  }
 ],
 "metadata": {
  "kernelspec": {
   "display_name": "torch-m1",
   "language": "python",
   "name": "python3"
  },
  "language_info": {
   "codemirror_mode": {
    "name": "ipython",
    "version": 3
   },
   "file_extension": ".py",
   "mimetype": "text/x-python",
   "name": "python",
   "nbconvert_exporter": "python",
   "pygments_lexer": "ipython3",
   "version": "3.10.16"
  }
 },
 "nbformat": 4,
 "nbformat_minor": 2
}
